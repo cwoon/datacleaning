{
 "cells": [
  {
   "cell_type": "code",
   "execution_count": 76,
   "metadata": {},
   "outputs": [],
   "source": [
    "import pandas as pd\n",
    "import os\n",
    "\n",
    "def newfilename(s): \n",
    "    # initialize an new file name\n",
    "    str1 = \"new_\" \n",
    "    \n",
    "    # traverse in the string  \n",
    "    for string in s: \n",
    "        str1 += string \n",
    "    \n",
    "    # return string  \n",
    "    return str1 \n",
    "\n",
    "#Set directory\n",
    "directory = './data/song_2000.csv'\n",
    "\n",
    "#Identify all data missing words\n",
    "na_value = [\"N/A\", \"na\", \"NA\"]\n",
    "\n",
    "#Load data into dataframe and replace missing words to default null value\n",
    "df = pd.read_csv(directory, na_values = na_value)\n",
    "\n",
    "#Make it machine friendly\n",
    "df_long = pd.melt(\n",
    "    df, \n",
    "    id_vars = ['year', 'artist', 'track', 'time', 'date.entered'],\n",
    "    var_name = 'week',\n",
    "    value_name = 'rating'\n",
    "    )\n",
    "\n",
    "#Remove wk string in data which represent week\n",
    "df_long['week'] = df_long['week'].str.replace('wk','')\n",
    "\n",
    "#Drop empty rating value\n",
    "df_clean = df_long.dropna(axis = 'index', how = 'any', subset = ['rating'])\n",
    "\n",
    "#Get new filename\n",
    "file = os.path.basename(directory)\n",
    "filename_new = newfilename(file)\n",
    "\n",
    "#Create a new file for data after cleaning\n",
    "df_clean.to_csv(filename_new, index=False)\n",
    "\n"
   ]
  }
 ],
 "metadata": {
  "interpreter": {
   "hash": "5c0372ed38b372118c24adb00d45654d76c8d10261533c5724e3f5fc1d75489a"
  },
  "kernelspec": {
   "display_name": "Python 3.8.6 64-bit",
   "name": "python3"
  },
  "language_info": {
   "name": "python",
   "version": "3.8.6"
  },
  "orig_nbformat": 4
 },
 "nbformat": 4,
 "nbformat_minor": 2
}
